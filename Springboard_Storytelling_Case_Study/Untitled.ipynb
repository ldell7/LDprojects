{
 "cells": [
  {
   "cell_type": "markdown",
   "metadata": {},
   "source": [
    "# Introduction"
   ]
  },
  {
   "cell_type": "markdown",
   "metadata": {},
   "source": [
    "This dataset contains food preferences for participants from different countries and demography. The columns of the dataset are as follows: <br/>\n",
    "\n",
    "Timestamp: Timestamp of the survey<br/>\n",
    "Participant_ID: Participant identification number<br/>\n",
    "Gender<br/>\n",
    "Nationality<br/>\n",
    "Age<br/>\n",
    "Food: Food preference<br/>\n",
    "Juice: Juice preference<br/>\n",
    "Dessert: Dessert preference<br/>"
   ]
  },
  {
   "cell_type": "code",
   "execution_count": null,
   "metadata": {},
   "outputs": [],
   "source": []
  }
 ],
 "metadata": {
  "kernelspec": {
   "display_name": "Python 3",
   "language": "python",
   "name": "python3"
  },
  "language_info": {
   "codemirror_mode": {
    "name": "ipython",
    "version": 3
   },
   "file_extension": ".py",
   "mimetype": "text/x-python",
   "name": "python",
   "nbconvert_exporter": "python",
   "pygments_lexer": "ipython3",
   "version": "3.8.3"
  }
 },
 "nbformat": 4,
 "nbformat_minor": 4
}
