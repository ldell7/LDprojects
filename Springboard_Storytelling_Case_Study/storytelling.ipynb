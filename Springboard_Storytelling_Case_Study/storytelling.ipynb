{
 "cells": [
  {
   "cell_type": "markdown",
   "metadata": {},
   "source": [
    "The dataset I will explore is one containing over 1,000 branded alcoholic drinks in a variety of standard servings, and the number of units of alcohol contained in those servings. Note that a unit is the UK standard measure of alcohol content and it is equivalent to 10 ml of pure alcohol. The columns are listed below. \n",
    "\n",
    "Product: Name of product. \n",
    "Brand: Brand under which the product is marketed. \n",
    "Category: Category of alcoholic drink. \n",
    "Style: Style of drink within the category. \n",
    "Quantity: Quantity of Quantity Units in this serving. \n",
    "Quantity Units: A measure of liquid volumn to which Quantity relates. Not to be confused with Units of Alcohol. \n",
    "Volume: Volume of liquid in ml. \n",
    "Package: Packing of the serving, eg. bottle, can, draught. \n",
    "ABV: Percentage of alcohol by volume. \n",
    "Units of Alcohol: Units of alcohol rounded to one decimal place. \n",
    "Units (4 Decimal Places): Units of alcohol rounded to four decimal places. \n",
    "Units per 100ml: Units of alcohol in each 100 ml of liquid. \n"
   ]
  }
 ],
 "metadata": {
  "kernelspec": {
   "display_name": "Python 3",
   "language": "python",
   "name": "python3"
  },
  "language_info": {
   "codemirror_mode": {
    "name": "ipython",
    "version": 3
   },
   "file_extension": ".py",
   "mimetype": "text/x-python",
   "name": "python",
   "nbconvert_exporter": "python",
   "pygments_lexer": "ipython3",
   "version": "3.8.3"
  }
 },
 "nbformat": 4,
 "nbformat_minor": 4
}
