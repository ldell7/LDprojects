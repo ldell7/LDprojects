{
 "cells": [
  {
   "cell_type": "markdown",
   "metadata": {},
   "source": [
    "# PART 2: EXPERIMENT AND METRICS DESIGN"
   ]
  },
  {
   "cell_type": "markdown",
   "metadata": {},
   "source": [
    "### PROBLEM STATEMENT"
   ]
  },
  {
   "cell_type": "markdown",
   "metadata": {},
   "source": [
    "The neighboring cities of Gotham and Metropolis have complementary circadian rhythms: on weekdays, Ultimate Gotham is most active at night, and Ultimate Metropolis is most active during the day. On weekends, there is reasonable activity in both cities.\n",
    "However, a toll bridge, with a two­way toll, between the two cities causes driver partners to tend to be exclusive to each city. The Ultimate managers of city operations for the two cities have proposed an experiment to encourage driver partners to be available in both cities, by reimbursing all toll costs."
   ]
  },
  {
   "cell_type": "markdown",
   "metadata": {},
   "source": [
    "### QUESTION 1: What would you choose as the key measure of success of this experiment in encouraging driver partners to serve both cities, and why would you choose this metric?"
   ]
  },
  {
   "cell_type": "markdown",
   "metadata": {},
   "source": [
    "The best way to measure the success of this experiment would be to measure the percentage of drivers passing the toll bridge with reimbursements compared to the percentage of drivers passing the toll bridge without reimbursements. This would require data for before and after the experiment. This is a good metric to choose because it can be easily calculated by the toll bridge. "
   ]
  },
  {
   "cell_type": "markdown",
   "metadata": {},
   "source": [
    "### QUESTION 2: Describe a practical experiment you would design to compare the effectiveness of the proposed change in relation to the key measure of success. Please provide details on how you will implement the experiment, what statistical test you will conduct to verify the significance of the observation, and how you would interpret the results and provide recommendations to the city operations team along with any caveats."
   ]
  },
  {
   "cell_type": "markdown",
   "metadata": {},
   "source": [
    "A good practical experiment to compare the effectiveness of the proposed change is as follows. First, randomly select a portion of the drivers to investigate. This portion has to be significantly large enough to get accurate estimations. Calculate the proportion of these drivers that pass the toll bridge. Then, notify the drivers that their tolls will be reimbursed. Again, calculate the proportion of the same drivers that pass the toll bridge."
   ]
  },
  {
   "cell_type": "markdown",
   "metadata": {},
   "source": [
    "With these two percentages in hand, a hypothesis test can be conducted to determine if there is a significant difference between before and after the reimbursements. The null hypothesis would be that there is no significant difference between the two distributions. The alternative hypothesis would be that there is a significant difference between the two distributions. In order to reject the null hypothesis, a p-value of less than 0.05 would need to be calculated."
   ]
  },
  {
   "cell_type": "markdown",
   "metadata": {},
   "source": [
    "The results would be interpreted as follows. If we reject the null hypothesis with a p-value less than 0.05, then we can reasonably conclude that the experiment was a success and reimbursing the toll costs was an effective way of encouraging drivers to be available in both cities. On the other hand, if we cannot reject the null hypothesis, then Ultimate will need to investigate other ways in which to incentivize the drivers to be available in both cities. "
   ]
  },
  {
   "cell_type": "markdown",
   "metadata": {},
   "source": [
    "Another thing to consider would be Ultimate's revenue. Is the money gained from having the drivers in both cities enough to justify reimbursing all toll costs? Reimbursing the toll costs could be effective in encouraging drivers to be in both cities, but this only matters if Ultimate is seeing equal or increased revenue."
   ]
  },
  {
   "cell_type": "markdown",
   "metadata": {},
   "source": [
    "So, in order to provide recommendations to the city operations team, I would need to have all the data for before and after the experiment, in addition to the revenue data. If we reject the null hypothesis and Ultimate is seeing increased revenue, then the experiment was a giant success and no further action is necessary other than to continue to monitor the data. If we reject the null hypothesis but Ultimate is seeing decreased revenue, then I would suggest coming up with a different method to incentivize the drivers to cross the bridge. And obviously if we do not reject the null hypothesis, then the experiment was a failure and Ultimate needs to reconsider methods to incentivize the drivers to cross the bridge."
   ]
  }
 ],
 "metadata": {
  "kernelspec": {
   "display_name": "Python 3",
   "language": "python",
   "name": "python3"
  },
  "language_info": {
   "codemirror_mode": {
    "name": "ipython",
    "version": 3
   },
   "file_extension": ".py",
   "mimetype": "text/x-python",
   "name": "python",
   "nbconvert_exporter": "python",
   "pygments_lexer": "ipython3",
   "version": "3.8.3"
  }
 },
 "nbformat": 4,
 "nbformat_minor": 4
}
