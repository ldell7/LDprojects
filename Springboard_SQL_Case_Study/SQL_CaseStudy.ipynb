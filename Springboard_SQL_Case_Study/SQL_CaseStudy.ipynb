{
 "cells": [
  {
   "cell_type": "code",
   "execution_count": 1,
   "metadata": {},
   "outputs": [],
   "source": [
    "from sqlalchemy import create_engine\n",
    "import pandas as pd"
   ]
  },
  {
   "cell_type": "code",
   "execution_count": 2,
   "metadata": {},
   "outputs": [],
   "source": [
    "engine = create_engine('sqlite:///sqlite_CaseStudy.db')"
   ]
  },
  {
   "cell_type": "code",
   "execution_count": 3,
   "metadata": {},
   "outputs": [],
   "source": [
    "# Produce a list of facilities with a total revenue less than 1000.\n",
    "# The output of facility name and total revenue, sorted by revenue. Remember\n",
    "# that there's a different cost for guests and members! \n",
    "query10 = '''\n",
    "SELECT f.name, \n",
    "SUM(\n",
    "CASE WHEN b.memid =0\n",
    "    THEN guestcost * slots\n",
    "    ELSE membercost * slots\n",
    "END ) AS revenue\n",
    "FROM Bookings b\n",
    "INNER JOIN Facilities f \n",
    "ON f.facid = b.facid\n",
    "GROUP BY f.name\n",
    "HAVING revenue <1000\n",
    "ORDER BY revenue\n",
    "'''"
   ]
  },
  {
   "cell_type": "code",
   "execution_count": 4,
   "metadata": {},
   "outputs": [],
   "source": [
    "answer10 = pd.read_sql_query(query10, engine)"
   ]
  },
  {
   "cell_type": "code",
   "execution_count": 5,
   "metadata": {},
   "outputs": [
    {
     "name": "stdout",
     "output_type": "stream",
     "text": [
      "            name  revenue\n",
      "0   Table Tennis      180\n",
      "1  Snooker Table      240\n",
      "2     Pool Table      270\n"
     ]
    }
   ],
   "source": [
    "print(answer10)"
   ]
  },
  {
   "cell_type": "code",
   "execution_count": 6,
   "metadata": {},
   "outputs": [],
   "source": [
    "# Produce a report of members and who recommended them in alphabetic surname, firstname order\n",
    "query11 = '''\n",
    "SELECT x.surname AS Member_Surname, \n",
    "x.firstname AS Member_Firstname, \n",
    "y.surname AS RecommendedBy_Surname, \n",
    "y.firstname AS RecommendedBy_Firstname\n",
    "FROM Members x\n",
    "INNER JOIN Members y ON x.recommendedby = y.memid\n",
    "ORDER BY x.surname, x.firstname\n",
    "'''"
   ]
  },
  {
   "cell_type": "code",
   "execution_count": 7,
   "metadata": {},
   "outputs": [],
   "source": [
    "answer11 = pd.read_sql_query(query11, engine)"
   ]
  },
  {
   "cell_type": "code",
   "execution_count": 8,
   "metadata": {},
   "outputs": [
    {
     "name": "stdout",
     "output_type": "stream",
     "text": [
      "       Member_Surname Member_Firstname RecommendedBy_Surname  \\\n",
      "0               Bader         Florence              Stibbons   \n",
      "1               Baker             Anne              Stibbons   \n",
      "2               Baker          Timothy               Farrell   \n",
      "3              Boothe              Tim                Rownam   \n",
      "4             Butters           Gerald                 Smith   \n",
      "5              Coplin             Joan                 Baker   \n",
      "6             Crumpet            Erica                 Smith   \n",
      "7                Dare            Nancy              Joplette   \n",
      "8             Genting          Matthew               Butters   \n",
      "9                Hunt             John               Purview   \n",
      "10              Jones            David              Joplette   \n",
      "11              Jones          Douglas                 Jones   \n",
      "12           Joplette           Janice                 Smith   \n",
      "13          Mackenzie             Anna                 Smith   \n",
      "14               Owen          Charles                 Smith   \n",
      "15             Pinker            David               Farrell   \n",
      "16            Purview        Millicent                 Smith   \n",
      "17             Rumney        Henrietta               Genting   \n",
      "18             Sarwin        Ramnaresh                 Bader   \n",
      "19              Smith             Jack                 Smith   \n",
      "20           Stibbons           Ponder                 Tracy   \n",
      "21  Worthington-Smyth            Henry                 Smith   \n",
      "\n",
      "   RecommendedBy_Firstname  \n",
      "0                   Ponder  \n",
      "1                   Ponder  \n",
      "2                   Jemima  \n",
      "3                      Tim  \n",
      "4                   Darren  \n",
      "5                  Timothy  \n",
      "6                    Tracy  \n",
      "7                   Janice  \n",
      "8                   Gerald  \n",
      "9                Millicent  \n",
      "10                  Janice  \n",
      "11                   David  \n",
      "12                  Darren  \n",
      "13                  Darren  \n",
      "14                  Darren  \n",
      "15                  Jemima  \n",
      "16                   Tracy  \n",
      "17                 Matthew  \n",
      "18                Florence  \n",
      "19                  Darren  \n",
      "20                  Burton  \n",
      "21                   Tracy  \n"
     ]
    }
   ],
   "source": [
    "print(answer11)"
   ]
  },
  {
   "cell_type": "code",
   "execution_count": 9,
   "metadata": {},
   "outputs": [],
   "source": [
    "# Find the facilities with their usage by member, but not guests\n",
    "query12 = '''\n",
    "SELECT name, SUM( slots ) AS total_slots\n",
    "FROM Bookings b\n",
    "INNER JOIN Facilities f ON b.facid = f.facid\n",
    "WHERE b.memid >0\n",
    "GROUP BY name\n",
    "'''"
   ]
  },
  {
   "cell_type": "code",
   "execution_count": 10,
   "metadata": {},
   "outputs": [],
   "source": [
    "answer12 = pd.read_sql_query(query12, engine)"
   ]
  },
  {
   "cell_type": "code",
   "execution_count": 11,
   "metadata": {},
   "outputs": [
    {
     "name": "stdout",
     "output_type": "stream",
     "text": [
      "              name  total_slots\n",
      "0  Badminton Court         1086\n",
      "1   Massage Room 1          884\n",
      "2   Massage Room 2           54\n",
      "3       Pool Table          856\n",
      "4    Snooker Table          860\n",
      "5     Squash Court          418\n",
      "6     Table Tennis          794\n",
      "7   Tennis Court 1          957\n",
      "8   Tennis Court 2          882\n"
     ]
    }
   ],
   "source": [
    "print(answer12)"
   ]
  },
  {
   "cell_type": "code",
   "execution_count": 12,
   "metadata": {},
   "outputs": [],
   "source": [
    "# Find the facilities usage by month, but not guests\n",
    "query13 = '''\n",
    "SELECT name, SUM( slots ) AS total_slots, strftime('%m',b.starttime) as month\n",
    "FROM Bookings b\n",
    "INNER JOIN Facilities f ON b.facid = f.facid\n",
    "WHERE b.memid >0\n",
    "GROUP BY name, month\n",
    "'''"
   ]
  },
  {
   "cell_type": "code",
   "execution_count": 13,
   "metadata": {},
   "outputs": [],
   "source": [
    "answer13 = pd.read_sql_query(query13, engine)"
   ]
  },
  {
   "cell_type": "code",
   "execution_count": 14,
   "metadata": {},
   "outputs": [
    {
     "name": "stdout",
     "output_type": "stream",
     "text": [
      "               name  total_slots month\n",
      "0   Badminton Court          165    07\n",
      "1   Badminton Court          414    08\n",
      "2   Badminton Court          507    09\n",
      "3    Massage Room 1          166    07\n",
      "4    Massage Room 1          316    08\n",
      "5    Massage Room 1          402    09\n",
      "6    Massage Room 2            8    07\n",
      "7    Massage Room 2           18    08\n",
      "8    Massage Room 2           28    09\n",
      "9        Pool Table          110    07\n",
      "10       Pool Table          303    08\n",
      "11       Pool Table          443    09\n",
      "12    Snooker Table          140    07\n",
      "13    Snooker Table          316    08\n",
      "14    Snooker Table          404    09\n",
      "15     Squash Court           50    07\n",
      "16     Squash Court          184    08\n",
      "17     Squash Court          184    09\n",
      "18     Table Tennis           98    07\n",
      "19     Table Tennis          296    08\n",
      "20     Table Tennis          400    09\n",
      "21   Tennis Court 1          201    07\n",
      "22   Tennis Court 1          339    08\n",
      "23   Tennis Court 1          417    09\n",
      "24   Tennis Court 2          123    07\n",
      "25   Tennis Court 2          345    08\n",
      "26   Tennis Court 2          414    09\n"
     ]
    }
   ],
   "source": [
    "print(answer13)"
   ]
  }
 ],
 "metadata": {
  "kernelspec": {
   "display_name": "Python 3",
   "language": "python",
   "name": "python3"
  },
  "language_info": {
   "codemirror_mode": {
    "name": "ipython",
    "version": 3
   },
   "file_extension": ".py",
   "mimetype": "text/x-python",
   "name": "python",
   "nbconvert_exporter": "python",
   "pygments_lexer": "ipython3",
   "version": "3.8.3"
  }
 },
 "nbformat": 4,
 "nbformat_minor": 4
}
